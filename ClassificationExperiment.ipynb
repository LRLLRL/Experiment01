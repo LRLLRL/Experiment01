{
 "cells": [
  {
   "cell_type": "code",
   "execution_count": null,
   "metadata": {
    "collapsed": true
   },
   "outputs": [],
   "source": [
    "# %load classification.py\n",
    "#!/usr/bin/env python2\n",
    "\"\"\"\n",
    "Created on Wed Dec 13 09:30:07 2017\n",
    "\n",
    "@author: lrl\n",
    "\"\"\"\n",
    "from sklearn.datasets import load_svmlight_file\n",
    "import numpy as np\n",
    "from sklearn.model_selection import train_test_split\n",
    "\n",
    "\n",
    "import matplotlib.pyplot as plt\n",
    "\n",
    "x,y=load_svmlight_file(\"/home/lrl/ML-logits/classification/australian_scale\")\n",
    "x=x.todense()\n",
    "m,n=np.shape(x)\n",
    "y=y.reshape((m,1))\n",
    "x_data=np.ones((m,n+1))\n",
    "x_data[:,:-1]=x[:,:]\n",
    "\n",
    "x_train,x_test,y_train,y_test=train_test_split(x_data,y,test_size=0.2)\n",
    "w=np.random.random(size=(n+1,1))\n",
    "def SVMGradDes(x,y,epoch,learning_rate,w,c):\n",
    "    losses=[]\n",
    "    for epoch in range(epoch):\n",
    "        h=1-y*np.dot(x,w)\n",
    "        print h.shape\n",
    "        tmp=np.where(h>0,y,0)\n",
    "      \n",
    "        w=w-learning_rate*(w-c*np.dot(x.T,tmp))\n",
    "        #print w.shape\n",
    "        y_predict=np.where(np.dot(x,w)>0,1,-1)\n",
    "        loss=np.sum(w*w)+c*np.sum(np.maximum(1-y*np.dot(x,w),0))\n",
    "        #print (y*np.dot(x,w)).shape\n",
    "        #print loss.shape\n",
    "        print (w*w).shape\n",
    "        losses.append(loss/m)\n",
    "  \n",
    "    return losses,w\n",
    "epoch=200\n",
    "learning_rate=0.005\n",
    "c=0.05\n",
    "losses_train,w=SVMGradDes(x_train,y_train,epoch,learning_rate,w,c)\n",
    "\n",
    "losses_test,w=SVMGradDes(x_test,y_test,epoch,learning_rate,w,c)\n",
    "\n",
    "plt.figure(figsize=(20,15))\n",
    "plt.plot(losses_train,color=\"r\",label=\"train\")\n",
    "plt.plot(losses_test,color=\"b\",label=\"test\")\n",
    "plt.legend()\n",
    "plt.xlabel(\"epoch\")\n",
    "plt.ylabel(\"loss\")\n",
    "plt.title(\"SVM Gradient Descent\")\n",
    "plt.show()"
   ]
  },
  {
   "cell_type": "code",
   "execution_count": null,
   "metadata": {
    "collapsed": true
   },
   "outputs": [],
   "source": []
  }
 ],
 "metadata": {
  "kernelspec": {
   "display_name": "Python [conda root]",
   "language": "python",
   "name": "conda-root-py"
  },
  "language_info": {
   "codemirror_mode": {
    "name": "ipython",
    "version": 2
   },
   "file_extension": ".py",
   "mimetype": "text/x-python",
   "name": "python",
   "nbconvert_exporter": "python",
   "pygments_lexer": "ipython2",
   "version": "2.7.12"
  }
 },
 "nbformat": 4,
 "nbformat_minor": 1
}
